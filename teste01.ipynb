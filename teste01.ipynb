{
 "cells": [
  {
   "cell_type": "code",
   "execution_count": 162,
   "metadata": {},
   "outputs": [],
   "source": [
    "import pandas as pd\n",
    "import numpy as np\n",
    "import matplotlib.pyplot as plt\n",
    "import seaborn as sns\n",
    "import networkx as nx"
   ]
  },
  {
   "cell_type": "code",
   "execution_count": 184,
   "metadata": {
    "scrolled": true
   },
   "outputs": [],
   "source": [
    "df_train=pd.read_csv('train.csv')\n",
    "df_test=pd.read_csv('test.csv')\n",
    "df=pd.concat([df_train.drop(['target'],axis=1),df_test],axis=0,sort=False)"
   ]
  },
  {
   "cell_type": "code",
   "execution_count": 3,
   "metadata": {},
   "outputs": [],
   "source": [
    "df.dropna(inplace = True)"
   ]
  },
  {
   "cell_type": "code",
   "execution_count": 4,
   "metadata": {},
   "outputs": [],
   "source": [
    "df.drop(labels ='id', axis=1 , inplace= True)"
   ]
  },
  {
   "cell_type": "code",
   "execution_count": 5,
   "metadata": {},
   "outputs": [],
   "source": [
    "df.to_csv('df_ok.csv', index = False)"
   ]
  },
  {
   "cell_type": "markdown",
   "metadata": {},
   "source": [
    "## here i use the R package 'arules' to generate all association rules"
   ]
  },
  {
   "cell_type": "code",
   "execution_count": 32,
   "metadata": {},
   "outputs": [
    {
     "data": {
      "text/html": [
       "<div>\n",
       "<style scoped>\n",
       "    .dataframe tbody tr th:only-of-type {\n",
       "        vertical-align: middle;\n",
       "    }\n",
       "\n",
       "    .dataframe tbody tr th {\n",
       "        vertical-align: top;\n",
       "    }\n",
       "\n",
       "    .dataframe thead th {\n",
       "        text-align: right;\n",
       "    }\n",
       "</style>\n",
       "<table border=\"1\" class=\"dataframe\">\n",
       "  <thead>\n",
       "    <tr style=\"text-align: right;\">\n",
       "      <th></th>\n",
       "      <th>rules</th>\n",
       "      <th>support</th>\n",
       "      <th>confidence</th>\n",
       "    </tr>\n",
       "  </thead>\n",
       "  <tbody>\n",
       "    <tr>\n",
       "      <th>1</th>\n",
       "      <td>nom_6=f19fdbb3b =&gt; bin_0=0</td>\n",
       "      <td>0.001004</td>\n",
       "      <td>0.923933</td>\n",
       "    </tr>\n",
       "    <tr>\n",
       "      <th>2</th>\n",
       "      <td>bin_0=0 =&gt; nom_6=f19fdbb3b</td>\n",
       "      <td>0.001004</td>\n",
       "      <td>0.001106</td>\n",
       "    </tr>\n",
       "    <tr>\n",
       "      <th>3</th>\n",
       "      <td>nom_5=a16f19e9b =&gt; bin_0=0</td>\n",
       "      <td>0.001008</td>\n",
       "      <td>0.925926</td>\n",
       "    </tr>\n",
       "    <tr>\n",
       "      <th>4</th>\n",
       "      <td>bin_0=0 =&gt; nom_5=a16f19e9b</td>\n",
       "      <td>0.001008</td>\n",
       "      <td>0.001111</td>\n",
       "    </tr>\n",
       "    <tr>\n",
       "      <th>5</th>\n",
       "      <td>nom_5=c0e9469c1 =&gt; bin_0=0</td>\n",
       "      <td>0.001006</td>\n",
       "      <td>0.920664</td>\n",
       "    </tr>\n",
       "  </tbody>\n",
       "</table>\n",
       "</div>"
      ],
      "text/plain": [
       "                        rules   support  confidence\n",
       "1  nom_6=f19fdbb3b => bin_0=0  0.001004    0.923933\n",
       "2  bin_0=0 => nom_6=f19fdbb3b  0.001004    0.001106\n",
       "3  nom_5=a16f19e9b => bin_0=0  0.001008    0.925926\n",
       "4  bin_0=0 => nom_5=a16f19e9b  0.001008    0.001111\n",
       "5  nom_5=c0e9469c1 => bin_0=0  0.001006    0.920664"
      ]
     },
     "execution_count": 32,
     "metadata": {},
     "output_type": "execute_result"
    }
   ],
   "source": [
    "dfRulesL2 = pd.read_csv('df_rules_L_2.csv', index_col= 0)\n",
    "dfRulesL2.drop(labels =['lift', 'count'], axis=1 , inplace= True)\n",
    "dfRulesL2.head()"
   ]
  },
  {
   "cell_type": "code",
   "execution_count": 85,
   "metadata": {},
   "outputs": [
    {
     "data": {
      "text/html": [
       "<div>\n",
       "<style scoped>\n",
       "    .dataframe tbody tr th:only-of-type {\n",
       "        vertical-align: middle;\n",
       "    }\n",
       "\n",
       "    .dataframe tbody tr th {\n",
       "        vertical-align: top;\n",
       "    }\n",
       "\n",
       "    .dataframe thead th {\n",
       "        text-align: right;\n",
       "    }\n",
       "</style>\n",
       "<table border=\"1\" class=\"dataframe\">\n",
       "  <thead>\n",
       "    <tr style=\"text-align: right;\">\n",
       "      <th></th>\n",
       "      <th>rules</th>\n",
       "      <th>Support &amp; confidence</th>\n",
       "    </tr>\n",
       "  </thead>\n",
       "  <tbody>\n",
       "    <tr>\n",
       "      <th>1</th>\n",
       "      <td>nom_5=6293a27d6</td>\n",
       "      <td>0.001002</td>\n",
       "    </tr>\n",
       "    <tr>\n",
       "      <th>2</th>\n",
       "      <td>nom_5=1e78a3926</td>\n",
       "      <td>0.001002</td>\n",
       "    </tr>\n",
       "    <tr>\n",
       "      <th>3</th>\n",
       "      <td>nom_5=5b707c4fb</td>\n",
       "      <td>0.001002</td>\n",
       "    </tr>\n",
       "    <tr>\n",
       "      <th>4</th>\n",
       "      <td>nom_5=3e9044b40</td>\n",
       "      <td>0.001004</td>\n",
       "    </tr>\n",
       "    <tr>\n",
       "      <th>5</th>\n",
       "      <td>nom_5=5ea48fdbd</td>\n",
       "      <td>0.001004</td>\n",
       "    </tr>\n",
       "  </tbody>\n",
       "</table>\n",
       "</div>"
      ],
      "text/plain": [
       "             rules  Support & confidence\n",
       "1  nom_5=6293a27d6              0.001002\n",
       "2  nom_5=1e78a3926              0.001002\n",
       "3  nom_5=5b707c4fb              0.001002\n",
       "4  nom_5=3e9044b40              0.001004\n",
       "5  nom_5=5ea48fdbd              0.001004"
      ]
     },
     "execution_count": 85,
     "metadata": {},
     "output_type": "execute_result"
    }
   ],
   "source": [
    "dfRulesL1 = pd.read_csv('df_rules_L_1.csv', index_col= 0)\n",
    "dfRulesL1.head()"
   ]
  },
  {
   "cell_type": "code",
   "execution_count": 139,
   "metadata": {},
   "outputs": [
    {
     "data": {
      "text/plain": [
       "1        None\n",
       "2        None\n",
       "3        None\n",
       "4        None\n",
       "5        None\n",
       "         ... \n",
       "41846    None\n",
       "41847    None\n",
       "41848    None\n",
       "41849    None\n",
       "41850    None\n",
       "Length: 41850, dtype: object"
      ]
     },
     "execution_count": 139,
     "metadata": {},
     "output_type": "execute_result"
    }
   ],
   "source": [
    "gain = []\n",
    "minconf  = 0.001\n",
    "def add_gain(row):\n",
    "    LHS = row[0].split('=>')[0].strip()\n",
    "    #print(LHS)\n",
    "    supLHS = float(dfRulesL1[dfRulesL1['rules'] == LHS].iloc[0,1])\n",
    "    gain.append([(row[2]-minconf)* supLHS])\n",
    "\n",
    "dfRulesL2.apply(add_gain,axis= 1)\n"
   ]
  },
  {
   "cell_type": "code",
   "execution_count": 140,
   "metadata": {},
   "outputs": [
    {
     "data": {
      "text/plain": [
       "1        None\n",
       "2        None\n",
       "3        None\n",
       "4        None\n",
       "5        None\n",
       "         ... \n",
       "41846    None\n",
       "41847    None\n",
       "41848    None\n",
       "41849    None\n",
       "41850    None\n",
       "Length: 41850, dtype: object"
      ]
     },
     "execution_count": 140,
     "metadata": {},
     "output_type": "execute_result"
    }
   ],
   "source": [
    "AV = []\n",
    "def add_added_value(row):\n",
    "    RHS = row[0].split('=>')[1].strip()\n",
    "    #print(LHS)\n",
    "    supRHS = float(dfRulesL1[dfRulesL1['rules'] == RHS].iloc[0,1])\n",
    "    AV.append([row[2] - supRHS])\n",
    "\n",
    "dfRulesL2.apply(add_added_value,axis= 1)"
   ]
  },
  {
   "cell_type": "code",
   "execution_count": 144,
   "metadata": {},
   "outputs": [],
   "source": [
    "dfRulesL2['gain'] = gain\n",
    "dfRulesL2['added value']  = AV"
   ]
  },
  {
   "cell_type": "code",
   "execution_count": 154,
   "metadata": {},
   "outputs": [],
   "source": [
    "def unlist(row):\n",
    "    row[3]  = row[3][0]\n",
    "    row[4]  = row[4][0]\n",
    "    return row\n",
    "dfRulesL2 = dfRulesL2.apply(unlist, axis = 1)"
   ]
  },
  {
   "cell_type": "code",
   "execution_count": 156,
   "metadata": {},
   "outputs": [],
   "source": [
    "dfRulesL2Filtered = dfRulesL2[dfRulesL2['gain'] > 0 ]\n",
    "dfRulesL2Filtered = dfRulesL2[dfRulesL2['added value'] > 0] \n",
    "dfRulesL2Filtered =  dfRulesL2[dfRulesL2['added value'] < 0]\n",
    "dfRulesL2Filtered.head()"
   ]
  },
  {
   "cell_type": "code",
   "execution_count": 176,
   "metadata": {},
   "outputs": [],
   "source": [
    "#creat an Filtered-ARN\n",
    "f_arn = nx.DiGraph()\n"
   ]
  },
  {
   "cell_type": "code",
   "execution_count": 177,
   "metadata": {},
   "outputs": [
    {
     "data": {
      "text/plain": [
       "33       None\n",
       "34       None\n",
       "57       None\n",
       "58       None\n",
       "71       None\n",
       "         ... \n",
       "41844    None\n",
       "41847    None\n",
       "41848    None\n",
       "41849    None\n",
       "41850    None\n",
       "Length: 20396, dtype: object"
      ]
     },
     "execution_count": 177,
     "metadata": {},
     "output_type": "execute_result"
    }
   ],
   "source": [
    "dfRulesL2Filtered.apply(lambda row: f_arn.add_node(row[0]),axis= 1)"
   ]
  },
  {
   "cell_type": "code",
   "execution_count": 178,
   "metadata": {},
   "outputs": [
    {
     "data": {
      "text/plain": [
       "33       None\n",
       "34       None\n",
       "57       None\n",
       "58       None\n",
       "71       None\n",
       "         ... \n",
       "41844    None\n",
       "41847    None\n",
       "41848    None\n",
       "41849    None\n",
       "41850    None\n",
       "Length: 20396, dtype: object"
      ]
     },
     "execution_count": 178,
     "metadata": {},
     "output_type": "execute_result"
    }
   ],
   "source": [
    "dfRulesL2Filtered.apply(lambda row: f_arn.add_edge(row[0].split('=>')[0].strip(),row[0].split('=>')[1].strip() ),axis= 1)"
   ]
  },
  {
   "cell_type": "code",
   "execution_count": 180,
   "metadata": {},
   "outputs": [
    {
     "data": {
      "text/plain": [
       "networkx.classes.digraph.DiGraph"
      ]
     },
     "execution_count": 180,
     "metadata": {},
     "output_type": "execute_result"
    }
   ],
   "source": [
    "f_arn."
   ]
  },
  {
   "cell_type": "code",
   "execution_count": 186,
   "metadata": {},
   "outputs": [
    {
     "data": {
      "text/plain": [
       "id               3\n",
       "bin_0          NaN\n",
       "bin_1            0\n",
       "bin_2            0\n",
       "bin_3            F\n",
       "bin_4            N\n",
       "nom_0          Red\n",
       "nom_1       Circle\n",
       "nom_2      Hamster\n",
       "nom_3      Finland\n",
       "nom_4     Theremin\n",
       "nom_5    673bdf1f6\n",
       "nom_6    23edb8da3\n",
       "nom_7    3a33ef960\n",
       "nom_8    bdaa56dd1\n",
       "nom_9    f9d456e57\n",
       "ord_0            1\n",
       "ord_1       Novice\n",
       "ord_2     Lava Hot\n",
       "ord_3            a\n",
       "ord_4            C\n",
       "ord_5          NaN\n",
       "day              3\n",
       "month            3\n",
       "Name: 3, dtype: object"
      ]
     },
     "execution_count": 186,
     "metadata": {},
     "output_type": "execute_result"
    }
   ],
   "source": [
    "df.iloc[3,:]"
   ]
  },
  {
   "cell_type": "code",
   "execution_count": null,
   "metadata": {},
   "outputs": [],
   "source": []
  }
 ],
 "metadata": {
  "kernelspec": {
   "display_name": "Python 3",
   "language": "python",
   "name": "python3"
  },
  "language_info": {
   "codemirror_mode": {
    "name": "ipython",
    "version": 3
   },
   "file_extension": ".py",
   "mimetype": "text/x-python",
   "name": "python",
   "nbconvert_exporter": "python",
   "pygments_lexer": "ipython3",
   "version": "3.6.9"
  }
 },
 "nbformat": 4,
 "nbformat_minor": 2
}
